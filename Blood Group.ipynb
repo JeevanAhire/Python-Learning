{
 "cells": [
  {
   "cell_type": "code",
   "execution_count": 19,
   "metadata": {},
   "outputs": [
    {
     "name": "stdout",
     "output_type": "stream",
     "text": [
      "5\n",
      "A\n",
      "10\n",
      "B\n",
      "5\n",
      "O\n",
      "2\n",
      "AB\n",
      "8\n",
      "A-\n",
      "2\n",
      "AB\n",
      "10\n",
      "Blood is not Available\n",
      "O\n",
      "A-\n"
     ]
    }
   ],
   "source": [
    "\n",
    "## https://www.computerdeveloper.in/2021/04/tcs-xplore-cpa-25-feb-2021-python-.html\n",
    "\n",
    "class Blood:\n",
    "    def __init__(self, bloodGroup, unitHand):\n",
    "        self.bg = bloodGroup\n",
    "        self.units = unitHand\n",
    "        \n",
    "class BloodBank:\n",
    "    def __init__(self, bl_list):\n",
    "        self.bl_list = bl_list\n",
    "        \n",
    "    def isBloodAvailable(Self, b_Group, unit_req):\n",
    "        for i in bl_list:\n",
    "            if i.bg == b_Group and i.units >= unit_req:\n",
    "                return \"Blood Available\"\n",
    "            \n",
    "        return \"Blood is not Available\"\n",
    "    \n",
    "    def findMinBloodStock(self):\n",
    "        min_unit = []\n",
    "        blgroup = []\n",
    "        for i in self.bl_list:\n",
    "            min_unit.append(i.units)\n",
    "            blgroup.append(i.bg)\n",
    "        \n",
    "        a = min(min_unit)\n",
    "       # b = min_unit.index(a)\n",
    "       # c = blgroup[b]\n",
    "       # print(c)\n",
    "        for i in self.bl_list:\n",
    "               if i.units == a:\n",
    "                    print(i.bg)\n",
    "                    \n",
    "if __name__ == \"__main__\":\n",
    "    N = int(input())\n",
    "    bl_list = []\n",
    "    for i in range(N):\n",
    "        bloodGroup = input()\n",
    "        unitHand = int(input())\n",
    "        bl_list.append(Blood(bloodGroup, unitHand))\n",
    "        \n",
    "    b_Group = input()\n",
    "    unit_req = int(input())\n",
    "    \n",
    "obj = BloodBank(bl_list)\n",
    "\n",
    "R = obj.isBloodAvailable(b_Group, unit_req)\n",
    "print(R)\n",
    "obj.findMinBloodStock()         "
   ]
  },
  {
   "cell_type": "code",
   "execution_count": 14,
   "metadata": {},
   "outputs": [
    {
     "name": "stdout",
     "output_type": "stream",
     "text": [
      "1\n",
      "3\n"
     ]
    }
   ],
   "source": [
    "lst = [1,2,3,4,1,5,2,5]\n",
    "a = min(lst)\n",
    "print(a)\n",
    "print(lst.index(4))"
   ]
  },
  {
   "cell_type": "code",
   "execution_count": null,
   "metadata": {},
   "outputs": [],
   "source": []
  }
 ],
 "metadata": {
  "kernelspec": {
   "display_name": "Python 3",
   "language": "python",
   "name": "python3"
  },
  "language_info": {
   "codemirror_mode": {
    "name": "ipython",
    "version": 3
   },
   "file_extension": ".py",
   "mimetype": "text/x-python",
   "name": "python",
   "nbconvert_exporter": "python",
   "pygments_lexer": "ipython3",
   "version": "3.8.3"
  }
 },
 "nbformat": 4,
 "nbformat_minor": 4
}
